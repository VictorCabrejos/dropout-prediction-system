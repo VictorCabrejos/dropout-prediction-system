{
 "cells": [
  {
   "cell_type": "markdown",
   "id": "347e544e",
   "metadata": {},
   "source": [
    "# Student Dropout Prediction - Model Exploration\n",
    "\n",
    "This notebook explores the dataset and builds a predictive model to identify students at risk of dropping out."
   ]
  },
  {
   "cell_type": "code",
   "execution_count": null,
   "id": "5640dd43",
   "metadata": {},
   "outputs": [],
   "source": [
    "# Import necessary libraries\n",
    "import pandas as pd\n",
    "import numpy as np\n",
    "import matplotlib.pyplot as plt\n",
    "import seaborn as sns\n",
    "\n",
    "from sklearn.model_selection import train_test_split\n",
    "from sklearn.linear_model import LogisticRegression\n",
    "from sklearn.preprocessing import StandardScaler\n",
    "from sklearn.metrics import confusion_matrix, classification_report, accuracy_score, roc_curve, roc_auc_score\n",
    "\n",
    "# Set plot style\n",
    "plt.style.use('ggplot')\n",
    "sns.set(style=\"whitegrid\")\n",
    "\n",
    "# Set pandas display options\n",
    "pd.set_option('display.max_columns', None)"
   ]
  },
  {
   "cell_type": "markdown",
   "id": "a153db17",
   "metadata": {},
   "source": [
    "## 1. Load and Explore the Dataset"
   ]
  },
  {
   "cell_type": "code",
   "execution_count": null,
   "id": "d4a6f31b",
   "metadata": {},
   "outputs": [],
   "source": [
    "# Load the dataset\n",
    "data_path = '../dataset.csv'\n",
    "data = pd.read_csv(data_path)\n",
    "\n",
    "# Display basic information about the dataset\n",
    "print(f\"Dataset shape: {data.shape}\")\n",
    "data.head()"
   ]
  },
  {
   "cell_type": "code",
   "execution_count": null,
   "id": "58659026",
   "metadata": {},
   "outputs": [],
   "source": [
    "# Check for missing values\n",
    "missing_values = data.isnull().sum()\n",
    "print(\"Missing values by column:\")\n",
    "missing_values[missing_values > 0]"
   ]
  },
  {
   "cell_type": "code",
   "execution_count": null,
   "id": "fd797075",
   "metadata": {},
   "outputs": [],
   "source": [
    "# Explore the target variable\n",
    "target_counts = data['Target'].value_counts()\n",
    "print(\"Target variable distribution:\")\n",
    "print(target_counts)\n",
    "\n",
    "# Plot the distribution\n",
    "plt.figure(figsize=(10, 6))\n",
    "sns.countplot(x='Target', data=data)\n",
    "plt.title('Target Variable Distribution')\n",
    "plt.xticks(rotation=45)\n",
    "plt.tight_layout()\n",
    "plt.show()"
   ]
  },
  {
   "cell_type": "markdown",
   "id": "7c433817",
   "metadata": {},
   "source": [
    "## 2. Data Preprocessing"
   ]
  },
  {
   "cell_type": "code",
   "execution_count": null,
   "id": "e9cfce80",
   "metadata": {},
   "outputs": [],
   "source": [
    "# Filter data to include only Dropout and Graduate outcomes\n",
    "filtered_data = data[data['Target'].isin(['Dropout', 'Graduate'])]\n",
    "print(f\"Filtered dataset shape: {filtered_data.shape}\")"
   ]
  },
  {
   "cell_type": "code",
   "execution_count": null,
   "id": "155442d1",
   "metadata": {},
   "outputs": [],
   "source": [
    "# Select features to be used in the model\n",
    "features = [\n",
    "    'Age at enrollment',\n",
    "    'Curricular units 1st sem (enrolled)',\n",
    "    'Curricular units 1st sem (approved)',\n",
    "    'Curricular units 2nd sem (enrolled)',\n",
    "    'Curricular units 2nd sem (approved)',\n",
    "    'Unemployment rate'\n",
    "]\n",
    "\n",
    "X = filtered_data[features]\n",
    "y = filtered_data['Target']\n",
    "\n",
    "# Display the first few rows of the features\n",
    "X.head()"
   ]
  },
  {
   "cell_type": "markdown",
   "id": "add77c21",
   "metadata": {},
   "source": [
    "## 3. Exploratory Data Analysis"
   ]
  },
  {
   "cell_type": "code",
   "execution_count": null,
   "id": "f67cac31",
   "metadata": {},
   "outputs": [],
   "source": [
    "# Analyze correlations between features\n",
    "plt.figure(figsize=(12, 10))\n",
    "correlation = X.corr()\n",
    "sns.heatmap(correlation, annot=True, cmap='coolwarm', fmt=\".2f\")\n",
    "plt.title('Feature Correlation Matrix')\n",
    "plt.tight_layout()\n",
    "plt.show()"
   ]
  },
  {
   "cell_type": "code",
   "execution_count": null,
   "id": "d5ee5cbc",
   "metadata": {},
   "outputs": [],
   "source": [
    "# Visualize the distribution of key features by target\n",
    "fig, axes = plt.subplots(3, 2, figsize=(15, 18))\n",
    "axes = axes.flatten()\n",
    "\n",
    "for i, feature in enumerate(features):\n",
    "    sns.boxplot(x='Target', y=feature, data=filtered_data, ax=axes[i])\n",
    "    axes[i].set_title(f'Distribution of {feature} by Target')\n",
    "    axes[i].set_xlabel('')\n",
    "    if feature in ['Age at enrollment', 'Unemployment rate']:\n",
    "        axes[i].set_ylabel(feature)\n",
    "    else:\n",
    "        axes[i].set_ylabel('Count')\n",
    "\n",
    "plt.tight_layout()\n",
    "plt.show()"
   ]
  },
  {
   "cell_type": "code",
   "execution_count": null,
   "id": "b399e897",
   "metadata": {},
   "outputs": [],
   "source": [
    "# Check the approval rates in 1st and 2nd semesters\n",
    "filtered_data['1st_sem_approval_rate'] = filtered_data['Curricular units 1st sem (approved)'] / filtered_data['Curricular units 1st sem (enrolled)']\n",
    "filtered_data['2nd_sem_approval_rate'] = filtered_data['Curricular units 2nd sem (approved)'] / filtered_data['Curricular units 2nd sem (enrolled)']\n",
    "\n",
    "# Handle NaN values from division by zero\n",
    "filtered_data['1st_sem_approval_rate'] = filtered_data['1st_sem_approval_rate'].fillna(0)\n",
    "filtered_data['2nd_sem_approval_rate'] = filtered_data['2nd_sem_approval_rate'].fillna(0)\n",
    "\n",
    "plt.figure(figsize=(12, 6))\n",
    "plt.subplot(1, 2, 1)\n",
    "sns.boxplot(x='Target', y='1st_sem_approval_rate', data=filtered_data)\n",
    "plt.title('1st Semester Approval Rate by Target')\n",
    "plt.ylabel('Approval Rate')\n",
    "plt.ylim(0, 1.05)\n",
    "\n",
    "plt.subplot(1, 2, 2)\n",
    "sns.boxplot(x='Target', y='2nd_sem_approval_rate', data=filtered_data)\n",
    "plt.title('2nd Semester Approval Rate by Target')\n",
    "plt.ylabel('Approval Rate')\n",
    "plt.ylim(0, 1.05)\n",
    "\n",
    "plt.tight_layout()\n",
    "plt.show()"
   ]
  },
  {
   "cell_type": "markdown",
   "id": "c01cb694",
   "metadata": {},
   "source": [
    "## 4. Model Training and Evaluation"
   ]
  },
  {
   "cell_type": "code",
   "execution_count": null,
   "id": "657de3af",
   "metadata": {},
   "outputs": [],
   "source": [
    "# Split data into training and testing sets\n",
    "X_train, X_test, y_train, y_test = train_test_split(\n",
    "    X, y, test_size=0.2, random_state=42\n",
    ")\n",
    "\n",
    "# Scale the features\n",
    "scaler = StandardScaler()\n",
    "X_train_scaled = scaler.fit_transform(X_train)\n",
    "X_test_scaled = scaler.transform(X_test)"
   ]
  },
  {
   "cell_type": "code",
   "execution_count": null,
   "id": "b50353e7",
   "metadata": {},
   "outputs": [],
   "source": [
    "# Train logistic regression model\n",
    "model = LogisticRegression(random_state=42, max_iter=1000)\n",
    "model.fit(X_train_scaled, y_train)\n",
    "\n",
    "# Make predictions\n",
    "y_pred = model.predict(X_test_scaled)\n",
    "y_prob = model.predict_proba(X_test_scaled)[:, 1]  # Probability of the positive class"
   ]
  },
  {
   "cell_type": "code",
   "execution_count": null,
   "id": "7cc798ff",
   "metadata": {},
   "outputs": [],
   "source": [
    "# Evaluate the model\n",
    "print(\"Classification Report:\")\n",
    "print(classification_report(y_test, y_pred))\n",
    "\n",
    "# Confusion Matrix\n",
    "conf_matrix = confusion_matrix(y_test, y_pred)\n",
    "plt.figure(figsize=(8, 6))\n",
    "sns.heatmap(conf_matrix, annot=True, fmt='d', cmap='Blues',\n",
    "            xticklabels=model.classes_,\n",
    "            yticklabels=model.classes_)\n",
    "plt.xlabel('Predicted')\n",
    "plt.ylabel('Actual')\n",
    "plt.title('Confusion Matrix')\n",
    "plt.tight_layout()\n",
    "plt.show()"
   ]
  },
  {
   "cell_type": "code",
   "execution_count": null,
   "id": "9e5b5917",
   "metadata": {},
   "outputs": [],
   "source": [
    "# ROC Curve\n",
    "# Convert target to binary (0 and 1) for ROC computation\n",
    "label_encoder = {class_name: i for i, class_name in enumerate(model.classes_)}\n",
    "y_test_binary = y_test.map(label_encoder)\n",
    "\n",
    "fpr, tpr, _ = roc_curve(y_test_binary, y_prob)\n",
    "auc = roc_auc_score(y_test_binary, y_prob)\n",
    "\n",
    "plt.figure(figsize=(8, 6))\n",
    "plt.plot(fpr, tpr, marker='.', label=f'Logistic Regression (AUC = {auc:.3f})')\n",
    "plt.plot([0, 1], [0, 1], linestyle='--', label='No Skill')\n",
    "plt.xlabel('False Positive Rate')\n",
    "plt.ylabel('True Positive Rate')\n",
    "plt.title('ROC Curve')\n",
    "plt.legend()\n",
    "plt.grid(True)\n",
    "plt.tight_layout()\n",
    "plt.show()"
   ]
  },
  {
   "cell_type": "markdown",
   "id": "09f9d7b1",
   "metadata": {},
   "source": [
    "## 5. Feature Importance Analysis"
   ]
  },
  {
   "cell_type": "code",
   "execution_count": null,
   "id": "f11045b7",
   "metadata": {},
   "outputs": [],
   "source": [
    "# Analyze feature importance\n",
    "feature_importance = pd.DataFrame({\n",
    "    'Feature': features,\n",
    "    'Coefficient': model.coef_[0]\n",
    "})\n",
    "\n",
    "# Sort by absolute coefficient value\n",
    "feature_importance['Abs_Coefficient'] = abs(feature_importance['Coefficient'])\n",
    "feature_importance = feature_importance.sort_values('Abs_Coefficient', ascending=False)\n",
    "\n",
    "plt.figure(figsize=(12, 6))\n",
    "sns.barplot(x='Coefficient', y='Feature', data=feature_importance)\n",
    "plt.title('Feature Importance (Logistic Regression Coefficients)')\n",
    "plt.xlabel('Coefficient Value')\n",
    "plt.ylabel('Feature')\n",
    "plt.axvline(x=0, color='black', linestyle='--')\n",
    "plt.tight_layout()\n",
    "plt.show()"
   ]
  },
  {
   "cell_type": "markdown",
   "id": "c0d95043",
   "metadata": {},
   "source": [
    "## 6. Model Saving"
   ]
  },
  {
   "cell_type": "code",
   "execution_count": null,
   "id": "c2ca7073",
   "metadata": {},
   "outputs": [],
   "source": [
    "import joblib\n",
    "import os\n",
    "\n",
    "# Create models directory if it doesn't exist\n",
    "os.makedirs('../models', exist_ok=True)\n",
    "\n",
    "# Save the model, scaler, and features\n",
    "model_data = {\n",
    "    'model': model,\n",
    "    'scaler': scaler,\n",
    "    'features': features\n",
    "}\n",
    "\n",
    "joblib.dump(model_data, '../models/dropout_predictor.pkl')\n",
    "print(\"Model saved to ../models/dropout_predictor.pkl\")"
   ]
  }
 ],
 "metadata": {
  "language_info": {
   "name": "python"
  }
 },
 "nbformat": 4,
 "nbformat_minor": 5
}
